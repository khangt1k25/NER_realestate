{
 "cells": [
  {
   "cell_type": "code",
   "execution_count": 1,
   "metadata": {},
   "outputs": [],
   "source": [
    "import matplotlib.pyplot as plt\n",
    "import pandas as pd\n",
    "import json\n",
    "from utils import clustering, parse_to_ES, processing, convert_response_to_df\n",
    "from esclient import _get_client"
   ]
  },
  {
   "cell_type": "code",
   "execution_count": 2,
   "metadata": {},
   "outputs": [],
   "source": [
    "def pipeline(nl):\n",
    "    cluster = clustering(nl)\n",
    "    body = parse_to_ES(cluster)\n",
    "    es = _get_client()\n",
    "    response = es.search(index='real_estate', body=body)\n",
    "    \n",
    "    return cluster, body, response\n"
   ]
  },
  {
   "cell_type": "code",
   "execution_count": 5,
   "metadata": {},
   "outputs": [
    {
     "name": "stdout",
     "output_type": "stream",
     "text": [
      "{\n",
      "    \"text\": \"draw the price chart of Apartment in HaNoi, according district\",\n",
      "    \"intents\": [\n",
      "        {\n",
      "            \"id\": \"353178916316175\",\n",
      "            \"name\": \"groupby\",\n",
      "            \"confidence\": 0.9943\n",
      "        }\n",
      "    ],\n",
      "    \"entities\": {\n",
      "        \"Object:groupby\": [\n",
      "            {\n",
      "                \"id\": \"4068291899952567\",\n",
      "                \"name\": \"Object\",\n",
      "                \"role\": \"groupby\",\n",
      "                \"start\": 54,\n",
      "                \"end\": 62,\n",
      "                \"body\": \"district\",\n",
      "                \"confidence\": 0.8649,\n",
      "                \"entities\": [],\n",
      "                \"value\": \"normed_district\",\n",
      "                \"type\": \"value\"\n",
      "            }\n",
      "        ],\n",
      "        \"normed_province:normed_province\": [\n",
      "            {\n",
      "                \"id\": \"597825701265414\",\n",
      "                \"name\": \"normed_province\",\n",
      "                \"role\": \"normed_province\",\n",
      "                \"start\": 37,\n",
      "                \"end\": 42,\n",
      "                \"body\": \"HaNoi\",\n",
      "                \"confidence\": 0.9906,\n",
      "                \"entities\": [],\n",
      "                \"value\": \"Hà Nội\",\n",
      "                \"type\": \"value\"\n",
      "            }\n",
      "        ],\n",
      "        \"normed_category:normed_category\": [\n",
      "            {\n",
      "                \"id\": \"189564709753447\",\n",
      "                \"name\": \"normed_category\",\n",
      "                \"role\": \"normed_category\",\n",
      "                \"start\": 24,\n",
      "                \"end\": 33,\n",
      "                \"body\": \"Apartment\",\n",
      "                \"confidence\": 1,\n",
      "                \"entities\": [],\n",
      "                \"value\": \"Căn Hộ\",\n",
      "                \"type\": \"value\"\n",
      "            }\n",
      "        ],\n",
      "        \"Object:Object\": [\n",
      "            {\n",
      "                \"id\": \"1008788833198973\",\n",
      "                \"name\": \"Object\",\n",
      "                \"role\": \"Object\",\n",
      "                \"start\": 9,\n",
      "                \"end\": 14,\n",
      "                \"body\": \"price\",\n",
      "                \"confidence\": 0.9871,\n",
      "                \"entities\": [],\n",
      "                \"value\": \"price\",\n",
      "                \"type\": \"value\"\n",
      "            }\n",
      "        ]\n",
      "    },\n",
      "    \"traits\": {}\n",
      "}\n"
     ]
    }
   ],
   "source": [
    "cluster, body, response = pipeline(\"draw the price chart of Apartment in HaNoi, according district\")"
   ]
  },
  {
   "cell_type": "code",
   "execution_count": 6,
   "metadata": {},
   "outputs": [
    {
     "data": {
      "text/plain": [
       "normed_district  price       \n",
       "Huyện Gia Lâm    5.000000e+06    20\n",
       "                 3.500000e+06    16\n",
       "                 4.500000e+06    15\n",
       "                 5.500000e+06    13\n",
       "                 6.000000e+06    13\n",
       "                                 ..\n",
       "Quận Đống Đa     8.000000e+07     1\n",
       "                 1.300000e+08     1\n",
       "                 7.500000e+08     1\n",
       "                 4.666600e+10     1\n",
       "                 5.555550e+11     1\n",
       "Name: price, Length: 797, dtype: int64"
      ]
     },
     "execution_count": 6,
     "metadata": {},
     "output_type": "execute_result"
    }
   ],
   "source": [
    "processing(response, cluster)"
   ]
  },
  {
   "cell_type": "code",
   "execution_count": 7,
   "metadata": {},
   "outputs": [],
   "source": [
    "df = convert_response_to_df(response)"
   ]
  },
  {
   "cell_type": "code",
   "execution_count": 9,
   "metadata": {},
   "outputs": [
    {
     "data": {
      "text/plain": [
       "Quận Cầu Giấy        1964\n",
       "Quận Nam Từ Liêm     1839\n",
       "Quận Thanh Xuân      1610\n",
       "Quận Ba Đình          748\n",
       "Quận Đống Đa          727\n",
       "Quận Long Biên        673\n",
       "Quận Bắc Từ Liêm      499\n",
       "Quận Hai Bà Trưng     477\n",
       "Quận Tây Hồ           426\n",
       "Quận Hà Đông          374\n",
       "Quận Hoàng Mai        300\n",
       "Huyện Gia Lâm         150\n",
       "Huyện Thanh Trì        98\n",
       "Quận Hoàn Kiếm         85\n",
       "Huyện Hoài Đức         16\n",
       "Huyện Đông Anh          9\n",
       "Huyện Đan Phượng        3\n",
       "Không xác định          1\n",
       "Huyện Thạch Thất        1\n",
       "Name: normed_district, dtype: int64"
      ]
     },
     "execution_count": 9,
     "metadata": {},
     "output_type": "execute_result"
    }
   ],
   "source": [
    "df['normed_district'].value_counts()"
   ]
  },
  {
   "cell_type": "code",
   "execution_count": null,
   "metadata": {},
   "outputs": [],
   "source": []
  }
 ],
 "metadata": {
  "kernelspec": {
   "display_name": "Python 3",
   "language": "python",
   "name": "python3"
  },
  "language_info": {
   "codemirror_mode": {
    "name": "ipython",
    "version": 3
   },
   "file_extension": ".py",
   "mimetype": "text/x-python",
   "name": "python",
   "nbconvert_exporter": "python",
   "pygments_lexer": "ipython3",
   "version": "3.9.5"
  }
 },
 "nbformat": 4,
 "nbformat_minor": 4
}
